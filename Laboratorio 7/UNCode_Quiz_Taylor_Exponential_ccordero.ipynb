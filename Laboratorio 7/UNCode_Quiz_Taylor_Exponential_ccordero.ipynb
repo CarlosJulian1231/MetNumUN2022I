{
  "nbformat": 4,
  "nbformat_minor": 0,
  "metadata": {
    "colab": {
      "name": "UNCode_Quiz_Taylor_Exponential_joviedog.ipynb",
      "provenance": [],
      "collapsed_sections": []
    },
    "kernelspec": {
      "name": "python3",
      "display_name": "Python 3"
    },
    "language_info": {
      "name": "python"
    }
  },
  "cells": [
    {
      "cell_type": "markdown",
      "metadata": {
        "id": "3vUhQTJdGE-8"
      },
      "source": [
        "#**Approximating the exponential function $e^x$ with its Taylor series about $0$** \n",
        "\n",
        "In this task you're asked to find the first (min) $n$ such that the $n$th term of the Taylor series for $e^x$ about $0$ (Maclaurin  series) is in absolute value less than $\\epsilon$.\n",
        "\n",
        "**Taylor series of $e^x$ about $0$ (Maclaurin  series)**\n",
        "\n",
        "\n",
        "$$e^x = \\sum_{i=0}^{\\infty} \\frac{x^{i}}{i!} = 1 + x + \\frac{x^2}{2!} + \\frac{x^3}{3!} +\\cdots+ \\frac{x^n}{n!} + \\cdots $$\n",
        "\n",
        "Consider $1$ the $0$-th term,  $x$ the $1$-st,  $\\frac{x^2}{2!}$ the $2$-nd term, $\\frac{x^3}{3!}$ the $3$-rd term and so on.\n",
        "\n",
        " **Find $n$**\n",
        "\n",
        "$$\\min_{n \\in \\mathbb{N}}\\left|\\frac{x^{n}}{n!}\\right| < \\epsilon$$\n",
        "\n",
        "Also you are asked to caculate the approximation to $e^x$ obatined with the $n$-degree Taylor polynomial for $e^x$ about $0$ calculated in $x$.\n",
        " \n",
        "\n",
        "**Approximate $e^x$**\n",
        "\n",
        "$$e^x \\approx \\sum_{i=0}^{n} \\frac{x^{i}}{i!}$$\n",
        "\n",
        "\n",
        "**Correctness and efficiency**\n",
        "The solution should work correctly for negative $x$ and with a time complexity of order $\\Theta(n)$FLOPs.\n",
        "\n"
      ]
    },
    {
      "cell_type": "markdown",
      "source": [
        "---\n",
        "\n",
        "###**Problem Description**\n",
        "\n",
        "**Task:** Given $x$ and $\\epsilon$ float numbers return the first (min) $n$ such that the $n$th term of the Taylor series for $e^x$ about $0$ (Maclaurin  series) is in absolute value less than $\\epsilon$ and also return the approximation to $e^x$ obatined with the $n$-degree Taylor polynomial for $e^x$ about $0$ calculated in $x$.\n",
        "\n",
        "---\n",
        "\n",
        "**Input Format:** $x$  and $\\epsilon$ float numbers.\n",
        "\n",
        "**Constraints:** $-700< x < 700 $ and $0< \\epsilon < 1 $.\n",
        "\n",
        "**Output Format:** An integer $n$,  that is the first (min) $n$ such that the $n$th term of the Taylor series for $e^x$ about $0$ (Maclaurin  series) is in absolute value less than $\\epsilon$ and a float that is the approximation to $e^x$ obatined with the $n$-degree Taylor polynomial for $e^x$ about $0$ calculated in $x$.\n",
        "\n",
        "---"
      ],
      "metadata": {
        "id": "Oa6xK7Z1QPF3"
      }
    },
    {
      "cell_type": "markdown",
      "metadata": {
        "id": "PjiZC1byHqJu"
      },
      "source": [
        "**Sample testcase**\n",
        "\n",
        "```python\n",
        "#run this sample textcase on a cell to help you validate your solution\n",
        "\n",
        "Taylor_e_to_x_nterm_plus_one_less_epsilon(x=35,epsilon=10**(-20))\n",
        "\n",
        "#  --> Expected output: (132, 1586013452313431.2)\n",
        "\n",
        "Taylor_e_to_x_nterm_plus_one_less_epsilon(x=-35,epsilon=10**(-20))\n",
        "\n",
        "#  --> Expected output: (132, 6.305116760146987e-16)\n",
        "```\n",
        "\n",
        "---"
      ]
    },
    {
      "cell_type": "markdown",
      "metadata": {
        "id": "DJ_bHorAF-Ip"
      },
      "source": [
        "**Solution**"
      ]
    },
    {
      "cell_type": "code",
      "metadata": {
        "id": "z5XnTHML__l6"
      },
      "source": [
        "# Retunrs Min n, |x^{n+1}/(n+1)!| < epsilon and ∑_{i=1}^{n+1}  x^i/i!\n",
        "import math\n",
        "\n",
        "def Taylor_e_to_x_nterm_plus_one_less_epsilon(x, epsilon):\n",
        "  \n",
        "   n = 1\n",
        "   e_to_x = 1\n",
        "   #Your code goes here\n",
        "   xo = x\n",
        "\n",
        "   if x < 0:\n",
        "     x = -x\n",
        "    \n",
        "   delta = 1\n",
        "   while  epsilon <= abs(delta):\n",
        "     delta *= x/n \n",
        "     e_to_x += delta\n",
        "     n = n+1\n",
        "\n",
        "   if x != xo: \n",
        "     e_to_x = 1 / e_to_x\n",
        "     x = xo   \n",
        "   n -= 1\n",
        "\n",
        "   \n",
        "   return n,e_to_x  #DO NOT change this line. Output will be read as a tuple."
      ],
      "execution_count": null,
      "outputs": []
    },
    {
      "cell_type": "code",
      "source": [
        "Taylor_e_to_x_nterm_plus_one_less_epsilon(x=-35,epsilon=10**(-20))"
      ],
      "metadata": {
        "colab": {
          "base_uri": "https://localhost:8080/"
        },
        "id": "7egz7kYl5WNu",
        "outputId": "1410f06f-f59d-46c8-f3af-694422adeb8d"
      },
      "execution_count": null,
      "outputs": [
        {
          "output_type": "execute_result",
          "data": {
            "text/plain": [
              "(132, 6.305116760146987e-16)"
            ]
          },
          "metadata": {},
          "execution_count": 2
        }
      ]
    },
    {
      "cell_type": "code",
      "source": [
        "Taylor_e_to_x_nterm_plus_one_less_epsilon(x=35,epsilon=10**(-20))"
      ],
      "metadata": {
        "colab": {
          "base_uri": "https://localhost:8080/"
        },
        "id": "ErwGw-CHASQK",
        "outputId": "3dc3503a-3d2b-4534-a5fe-25d385a424c6"
      },
      "execution_count": null,
      "outputs": [
        {
          "output_type": "execute_result",
          "data": {
            "text/plain": [
              "(132, 1586013452313431.2)"
            ]
          },
          "metadata": {},
          "execution_count": 75
        }
      ]
    },
    {
      "cell_type": "code",
      "source": [
        "Taylor_e_to_x_nterm_plus_one_less_epsilon(x=1,epsilon=10**(-18))"
      ],
      "metadata": {
        "colab": {
          "base_uri": "https://localhost:8080/"
        },
        "id": "4PUyZWlS-Hru",
        "outputId": "a0087167-c4ff-4ea2-808b-1938f23b37b7"
      },
      "execution_count": null,
      "outputs": [
        {
          "output_type": "execute_result",
          "data": {
            "text/plain": [
              "(20, 2.7182818284590455)"
            ]
          },
          "metadata": {},
          "execution_count": 65
        }
      ]
    }
  ]
}